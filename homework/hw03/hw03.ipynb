{
 "cells": [
  {
   "cell_type": "markdown",
   "metadata": {},
   "source": [
    "## Homework 3\n",
    "#### Due Saturday October 5 by 11:59pm on Gradescope"
   ]
  },
  {
   "cell_type": "markdown",
   "metadata": {},
   "source": [
    "Please import the following package."
   ]
  },
  {
   "cell_type": "code",
   "execution_count": 1,
   "metadata": {},
   "outputs": [],
   "source": [
    "import numpy as np"
   ]
  },
  {
   "cell_type": "markdown",
   "metadata": {},
   "source": [
    "### Storage\n",
    "\n",
    "**_How to compress an array with lots of zeros_**"
   ]
  },
  {
   "cell_type": "markdown",
   "metadata": {},
   "source": [
    "Suppose we have an array `np.array([[1,0], [0,4]])`. We could store the indices of non-zero entries (namely (0,0) and (1,1)) and the values of non-zero entries (namely 1 and 4) in a dictionary. Instead we will encode the non-zero entries with three arrays\n",
    "        \n",
    "* `nonzero_values` :  The nonzero entries in row major order. For example `np.array([1,4])`\n",
    "* `nonzero_values_column` :  The columns of each non-zero entry. For example `np.array([0,1])`\n",
    "* `nonzero_values_count` :  The cumulative count of non-zero entries in each row. Here the entry with index $i$th corresponds to rows 0 through $i-1$. For example `np.array([0,1,2])`."
   ]
  },
  {
   "cell_type": "markdown",
   "metadata": {},
   "source": [
    "Consider a function called `dense_to_sparse` that inputs an array and outputs `nonzero_values`, `nonzero_values_column`, and `nonzero_values_count` together as a tuple.  \n",
    "\n",
    "a. Write pseudo-code for `dense_to_sparse`"
   ]
  },
  {
   "cell_type": "raw",
   "metadata": {},
   "source": [
    "PSEUDO-CODE HERE"
   ]
  },
  {
   "cell_type": "markdown",
   "metadata": {},
   "source": [
    "b. Write code for `dense_to_sparse`"
   ]
  },
  {
   "cell_type": "code",
   "execution_count": null,
   "metadata": {},
   "outputs": [],
   "source": [
    "# Implement this\n",
    "def dense_to_sparse(arr):\n",
    "    raise NotImplementedError()"
   ]
  },
  {
   "cell_type": "markdown",
   "metadata": {},
   "source": [
    "Consider a function called `sparse_to_dense` that reverses `dense_to_sparse`. The function has five inputs: three arrays (`nonzero_values`, `nonzero_values_column`, `nonzero_values_count`) along with two integers (the number of rows and columns). The output is the original matrix. For example,\n",
    "\n",
    "`sparse_to_dense(np.array([1,4]), np.array([0,1]), np.array([0,1,2]), 2, 2)` \n",
    "\n",
    "is `np.array([[1,0], [0,4]])`.\n",
    "\n",
    "c. Write pseudo-code for `sparse_to_dense`"
   ]
  },
  {
   "cell_type": "raw",
   "metadata": {},
   "source": [
    "PSEUDO-CODE HERE"
   ]
  },
  {
   "cell_type": "markdown",
   "metadata": {},
   "source": [
    "d. Write code for `sparse_to_dense`"
   ]
  },
  {
   "cell_type": "code",
   "execution_count": 2,
   "metadata": {},
   "outputs": [],
   "source": [
    "# Implement this, including modifying argument names\n",
    "def sparse_to_dense(arr1, arr2, arr3, nrows, ncols):\n",
    "    raise NotImplementedError()"
   ]
  },
  {
   "cell_type": "markdown",
   "metadata": {},
   "source": [
    "### Classes \n",
    "\n",
    "**_How to resuse code through inheritance_**"
   ]
  },
  {
   "cell_type": "markdown",
   "metadata": {},
   "source": [
    "<img src=\"img.png\" alt=\"drawing\" width=\"200\" style=\"float:right\"/>\n",
    "\n",
    "We want to use organize the different approaches to storing the data in arrays. \n",
    "\n",
    "e. Create a class called `GenericMatrix` with two instance attributes\n",
    " - `self.number_rows` storing the number of rows\n",
    " - `self.number_columns` storing the number of columns"
   ]
  },
  {
   "cell_type": "code",
   "execution_count": null,
   "metadata": {},
   "outputs": [],
   "source": [
    "# Implement this\n",
    "class GenericMatrix:\n",
    "    def __init__(self, nrows, ncols):\n",
    "        raise NotImplementedError"
   ]
  },
  {
   "cell_type": "markdown",
   "metadata": {},
   "source": [
    "f. Create a subclass of `GenericMatrix` called `DenseMatrix` with \n",
    " - instance attribute `self.data` storing the numpy array\n",
    " - constructor `__init__` that sets `self.data` along with `self.number_rows`, `self.number_columns` in the superclass"
   ]
  },
  {
   "cell_type": "code",
   "execution_count": null,
   "metadata": {},
   "outputs": [],
   "source": [
    "# Implement this\n",
    "class DenseMatrix(GenericMatrix):\n",
    "    def __init__(self, nrows, ncols, data):\n",
    "        raise NotImplementedError"
   ]
  },
  {
   "cell_type": "markdown",
   "metadata": {},
   "source": [
    "g. Create a subclass of `GenericMatrix` called `GenericSparseMatrix` with \n",
    " - constructor `__init__` that sets `self.number_rows`, `self.number_columns` in the superclass"
   ]
  },
  {
   "cell_type": "code",
   "execution_count": null,
   "metadata": {},
   "outputs": [],
   "source": [
    "# Implement this\n",
    "class GenericSparseMatrix(GenericMatrix):\n",
    "    def __init__(self, nrows, ncols):\n",
    "        raise NotImplementedError"
   ]
  },
  {
   "cell_type": "markdown",
   "metadata": {},
   "source": [
    "h. Create two subclasses of `GenericSparseMatrix` called `CSR` and `KeyValue`. Here `CSRMatrix` has \n",
    " - instance attributes:\n",
    "    1. `nonzero_values`\n",
    "    2. `nonzero_values_column`\n",
    "    3. `nonzero_values_count`\n",
    " - instance method `dense_to_sparse(self, arr)` (tip: use Question b)\n",
    " - constructor `__init__` that sets the three data attributes above using `dense_to_sparse(self, arr)` along with `self.number_rows`, `self.number_columns` in the superclass\n",
    " \n",
    "Here `KeyValueMatrix` has \n",
    " - instance attribute `self.data_dict` a dictionary mapping coordinates to non-zero values\n",
    " - instance method `dense_to_sparse(self, arr)` (tip: use Homework 2, Q4)\n",
    " - constructor `__init__` that sets `self.data_dict` using `dense_to_sparse(self, arr)` along with `self.number_rows`, `self.number_columns` in the superclass"
   ]
  },
  {
   "cell_type": "code",
   "execution_count": null,
   "metadata": {},
   "outputs": [],
   "source": [
    "# Implement this\n",
    "class CSRMatrix(GenericSparseMatrix):\n",
    "    def __init__(self, nrows, ncols, nonzero_values, nonzero_values_column, nonzero_values_count):\n",
    "        raise NotImplementedError\n",
    "        \n",
    "    def dense_to_sparse(self, arr):\n",
    "        raise NotImplementedError\n",
    "\n",
    "class KeyValueMatrix(GenericSparseMatrix):\n",
    "    def __init__(self, nrows, ncols, data_dict):\n",
    "        raise NotImplementedError\n",
    "        \n",
    "    def dense_to_sparse(self, arr):\n",
    "        raise NotImplementedError"
   ]
  },
  {
   "cell_type": "markdown",
   "metadata": {},
   "source": [
    "i. Draw a diagram in Unified Modeling Language representing the classes and the inheritance between classes."
   ]
  }
 ],
 "metadata": {
  "kernelspec": {
   "display_name": "Python 3",
   "language": "python",
   "name": "python3"
  },
  "language_info": {
   "codemirror_mode": {
    "name": "ipython",
    "version": 3
   },
   "file_extension": ".py",
   "mimetype": "text/x-python",
   "name": "python",
   "nbconvert_exporter": "python",
   "pygments_lexer": "ipython3",
   "version": "3.6.5"
  }
 },
 "nbformat": 4,
 "nbformat_minor": 2
}
