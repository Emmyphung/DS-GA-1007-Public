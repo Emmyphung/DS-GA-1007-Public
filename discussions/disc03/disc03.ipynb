{
 "cells": [
  {
   "cell_type": "markdown",
   "metadata": {},
   "source": [
    "# Discussion 03"
   ]
  },
  {
   "cell_type": "markdown",
   "metadata": {},
   "source": [
    "### Agenda\n",
    " * Global vs. local variables \n",
    " * Pass by reference/value\n",
    " * Nested Functions"
   ]
  },
  {
   "cell_type": "markdown",
   "metadata": {},
   "source": [
    "## Functions recap"
   ]
  },
  {
   "cell_type": "code",
   "execution_count": null,
   "metadata": {},
   "outputs": [],
   "source": [
    "#syntax\n",
    "\n",
    "def hello(name):\n",
    "    print('Hello %s' % name)\n",
    "    \n",
    "hello('David')"
   ]
  },
  {
   "cell_type": "code",
   "execution_count": null,
   "metadata": {},
   "outputs": [],
   "source": [
    "# multiple inputs and default inputs\n",
    "\n",
    "def my_function_name(arg1, arg2, arg3=10):\n",
    "    print(arg1)\n",
    "    return arg2 * arg3    \n",
    "\n",
    "print(my_function_name(\"hi\", 2))\n",
    "print(my_function_name(\"hi\", 2, 3))"
   ]
  },
  {
   "cell_type": "code",
   "execution_count": null,
   "metadata": {},
   "outputs": [],
   "source": [
    "# multiple outputs\n",
    "\n",
    "def reverse_list(ls):\n",
    "    return ls[::-1], len(ls)"
   ]
  },
  {
   "cell_type": "code",
   "execution_count": null,
   "metadata": {},
   "outputs": [],
   "source": [
    "test_list = range(5)\n",
    "print(test_list)"
   ]
  },
  {
   "cell_type": "code",
   "execution_count": null,
   "metadata": {},
   "outputs": [],
   "source": [
    "new_list, n = reverse_list(test_list)\n",
    "print(new_list, n)"
   ]
  },
  {
   "cell_type": "code",
   "execution_count": null,
   "metadata": {},
   "outputs": [],
   "source": [
    "type(reverse_list(test_list))"
   ]
  },
  {
   "cell_type": "markdown",
   "metadata": {},
   "source": [
    "### Global vs. Local variables\n",
    "* **Local variables**: \n",
    "   * Variables defined inside a function body have a local scope \n",
    "   * Local variables can only be accessed inside that function\n",
    "* **Global variables**: \n",
    "   * Variables defined outside of a function have a global scope\n",
    "   * Global variables can be accessed throughout the program body by all functions (but there is some subtlety)\n"
   ]
  },
  {
   "cell_type": "code",
   "execution_count": null,
   "metadata": {},
   "outputs": [],
   "source": [
    "# Example 1: local vs. global variables\n",
    "\n",
    "total = 10  # global\n",
    "\n",
    "def add(arg1, arg2):\n",
    "    total = arg1 + arg2 # local\n",
    "    print(\"Inside the function local total:\", total)\n",
    "\n",
    "add(10, 20)\n",
    "\n",
    "print(\"Outside the function global total:\", total) "
   ]
  },
  {
   "cell_type": "markdown",
   "metadata": {},
   "source": [
    "**Takeaway**: Although `total` occurs both locally and globally, they are different variables."
   ]
  },
  {
   "cell_type": "code",
   "execution_count": null,
   "metadata": {},
   "outputs": [],
   "source": [
    "# Example 2: Reading global variable from within a function\n",
    "\n",
    "global_total = 10  # global\n",
    "\n",
    "def add(arg1, arg2):\n",
    "    total = arg1 + arg2  # local\n",
    "    grand_total = global_total + total\n",
    "    print(\"sum with global_total:\", grand_total)\n",
    "    print(\"Inside the function local total:\", total)\n",
    "\n",
    "add(10, 20)\n",
    "print(\"global_total outside the function:\", global_total) "
   ]
  },
  {
   "cell_type": "markdown",
   "metadata": {},
   "source": [
    "**Takeaway**: You can read global variables from within a function. "
   ]
  },
  {
   "cell_type": "code",
   "execution_count": null,
   "metadata": {},
   "outputs": [],
   "source": [
    "# Example 3: Issue with reading a global variable\n",
    "\n",
    "global_total = 10  # global\n",
    "\n",
    "def add(arg1, arg2):\n",
    "    total = arg1 + arg2  # local\n",
    "\n",
    "    # modify \"global_total\" by adding \"total\" value to it\n",
    "    global_total = global_total + total\n",
    "    print(\"global_total:\", global_total)    \n",
    "    print(\"Inside the function local total :\", total)\n",
    "\n",
    "add(10, 20)\n",
    "print(\"Outside the function global total :\", global_total) \n",
    "\n",
    "# You got an error from the function. Why?"
   ]
  },
  {
   "cell_type": "markdown",
   "metadata": {},
   "source": [
    "**Takeaway**: You can't read a global variable directly if you're going to assign to that variable name *within the same scope*"
   ]
  },
  {
   "cell_type": "markdown",
   "metadata": {},
   "source": [
    "### Global Statement\n",
    "\n",
    "   * How to define/modify a global variable within a function?, i.e.\n",
    "     * Make variables defined within a function accessible outside the function?\n",
    "     * Assign values to global variables within a function?\n",
    "   * Declare a global variable with \"global statement\" "
   ]
  },
  {
   "cell_type": "code",
   "execution_count": null,
   "metadata": {},
   "outputs": [],
   "source": [
    "# Example 4: Accessing a global variable using the `global` keyword\n",
    "\n",
    "global_total = 10\n",
    "\n",
    "def add(arg1, arg2):\n",
    "    total = arg1 + arg2\n",
    "    \n",
    "    # use global statement to indicate the scope of global_total\n",
    "    global global_total\n",
    "    global_total = global_total + total\n",
    "    print(\"global_total:\", global_total)    \n",
    "    print(\"Inside the function local total:\", total)\n",
    "\n",
    "add(10, 20)\n",
    "print(\"Outside the function global total:\", global_total) "
   ]
  },
  {
   "cell_type": "markdown",
   "metadata": {},
   "source": [
    "**Takeaway**: You can access global variables safely using the global keyword"
   ]
  },
  {
   "cell_type": "code",
   "execution_count": null,
   "metadata": {},
   "outputs": [],
   "source": [
    "# Example 5: Defining a global variable only within the scope\n",
    "\n",
    "def add(arg1, arg2):\n",
    "    total = arg1 + arg2 # Here total is local variable.\n",
    "    \n",
    "    # use global statement to indicate the scope of global_total\n",
    "    global global_total\n",
    "    \n",
    "    # assign a value to the global variable \n",
    "    global_total = 10  \n",
    "    \n",
    "    # modify it\n",
    "    global_total += total \n",
    "    print(\"global_total:\", global_total)\n",
    "    print(\"Inside the function local total:\", total)\n",
    "\n",
    "add(10, 20)\n",
    "global_total = 50\n",
    "print(\"Outside the function global total:\", global_total) \n",
    "\n",
    "# What if you add \"global_total = 50\" before line 5 \n",
    "# or before line 21? What you'll get?"
   ]
  },
  {
   "cell_type": "markdown",
   "metadata": {},
   "source": [
    "**Takeaway**: You can define a global variable on the fly."
   ]
  },
  {
   "cell_type": "markdown",
   "metadata": {},
   "source": [
    "**WARNING**: Global variables are nice! You can access information from anywhere in your code! But it can also be a bad practice, if your code has no \"encapsulation\": If everything can be accessed from everywhere, then a bug can *also* come from *anywhere*.\n",
    "\n",
    "`Use global variables sparingly.`"
   ]
  },
  {
   "cell_type": "markdown",
   "metadata": {},
   "source": [
    "### Arguments and parameters of Functions\n",
    "* Parameters are variables that work like placeholders in the definition of function.\n",
    "* Arguments are variables that are passed into a function when calling this function.\n",
    "\n",
    "Basically, `parameters` are in the function definition, `arguments` are what we pass in. Don't worry too much about the difference--people generally refer to `arguments` rather than `parameters`."
   ]
  },
  {
   "cell_type": "code",
   "execution_count": null,
   "metadata": {},
   "outputs": [],
   "source": [
    "# Definition\n",
    "def fun1(a1, a2, a3, a4=10):\n",
    "    print(a1)\n",
    "    print(a2)\n",
    "    print(a3)\n",
    "    print(a4)"
   ]
  },
  {
   "cell_type": "code",
   "execution_count": null,
   "metadata": {},
   "outputs": [],
   "source": [
    "# Calling\n",
    "fun1(1, 2, 3, 4)"
   ]
  },
  {
   "cell_type": "markdown",
   "metadata": {},
   "source": [
    "* There are two types of parameters: ones with default value and one without default value. \n",
    "* Rule for parameter: non-default-value parameters must be before parameters with default value.\n",
    "* There are also two types of arguments: non-keyword argument and keyword argument.\n",
    "* Rule for argument: non-keyword argument must be before keyword argument."
   ]
  },
  {
   "cell_type": "code",
   "execution_count": null,
   "metadata": {},
   "outputs": [],
   "source": [
    "fun1(1, 2, 3)  # You don't have to pass values to parameter with default value. "
   ]
  },
  {
   "cell_type": "code",
   "execution_count": null,
   "metadata": {},
   "outputs": [],
   "source": [
    "fun1(10, a2=20, a3=10, a4=40)  # the second argument is the one with keyword."
   ]
  },
  {
   "cell_type": "markdown",
   "metadata": {},
   "source": [
    "* The order of keyword arguments does not matter, but it matters for non-keyword arguments."
   ]
  },
  {
   "cell_type": "code",
   "execution_count": null,
   "metadata": {},
   "outputs": [],
   "source": [
    "fun1(10, a4=20, a2=10, a3=40)  # Order of keyword arguments can be arbitrary."
   ]
  },
  {
   "cell_type": "markdown",
   "metadata": {},
   "source": [
    "All parameters in the Python language are passed **by reference**. It means if you change what a parameter refers to within a function, the change also reflects back in the calling function. <br>\n",
    "\n",
    " * **by reference**: the called functions' parameter will be the same as the callers' passed argument (not the value, but the identity - the variable itself). <br>\n",
    " * **by value**: the called functions' parameter will be a copy of the callers' passed argument\n",
    " \n",
    "(There is actually some additional subtlety: Python doesn't necessarily fit into either paradigm neatly.)"
   ]
  },
  {
   "cell_type": "code",
   "execution_count": null,
   "metadata": {},
   "outputs": [],
   "source": [
    "# Example 1: Modifying an argument\n",
    "\n",
    "def changeme(mylist):\n",
    "    # Modifies a list\n",
    "    mylist += [1, 2, 3, 4]\n",
    "    print(\"Value inside the function:\", mylist)\n",
    "    return mylist\n",
    "\n",
    "mylist = [10, 20, 30]\n",
    "newlist = changeme(mylist)\n",
    "print(\"Value outside the function:\", mylist)\n",
    "\n",
    "# global variable \"mylist\" is passed to the function by reference\n",
    "# However, it's value is changed by the function"
   ]
  },
  {
   "cell_type": "code",
   "execution_count": null,
   "metadata": {},
   "outputs": [],
   "source": [
    "# Example 1: Replacing a variable\n",
    "\n",
    "def changeme(mylist):\n",
    "    # Modifies a list\n",
    "    mylist = [1, 2, 3, 4]\n",
    "    print(\"Values inside the function:\", mylist)\n",
    "    return mylist\n",
    "\n",
    "mylist = [10, 20, 30]\n",
    "newlist = changeme(mylist)\n",
    "print(\"Values outside the function:\", mylist)\n",
    "\n",
    "# global variable \"mylist\" is passed to the function by reference\n",
    "# However, it's value is not changed by the function\n",
    "# How to understand this?"
   ]
  },
  {
   "cell_type": "markdown",
   "metadata": {},
   "source": [
    "##  Mutable vs Immutable"
   ]
  },
  {
   "cell_type": "markdown",
   "metadata": {},
   "source": [
    "Recall the difference between mutable and immutable containers -- that is sequence types"
   ]
  },
  {
   "cell_type": "code",
   "execution_count": null,
   "metadata": {},
   "outputs": [],
   "source": [
    "# Tuples are immutable\n",
    "triplet = (1, 2, 3)\n",
    "triplet[5] = 6"
   ]
  },
  {
   "cell_type": "code",
   "execution_count": null,
   "metadata": {},
   "outputs": [],
   "source": [
    "# Strings are immutable\n",
    "my_name = 'John Doe'\n",
    "my_name[-3] = 'R'"
   ]
  },
  {
   "cell_type": "code",
   "execution_count": null,
   "metadata": {},
   "outputs": [],
   "source": [
    "# What happens here?\n",
    "my_name += ' of New York'\n",
    "print(my_name)"
   ]
  },
  {
   "cell_type": "code",
   "execution_count": null,
   "metadata": {},
   "outputs": [],
   "source": [
    "# So what if I really need to \"change\" my_name?\n",
    "my_new_name = my_name[:5] + 'R' + my_name[6:] # Make a copy\n",
    "print(my_new_name)"
   ]
  },
  {
   "cell_type": "code",
   "execution_count": null,
   "metadata": {},
   "outputs": [],
   "source": [
    "# Lists are mutable, they can be changed in place\n",
    "l = 'super-cali-fragil-istic-expi-ali-do-cious'.split('-')\n",
    "# Lets say we want to translate it to \n",
    "# 'super-cali-fragil-istico-expi-ali-do-so' (Spanish)\n",
    "l[3] = 'istico'\n",
    "l[-1] = 'so'\n",
    "spanish_word = '-'.join(l)\n",
    "print('In spanish, you say:', spanish_word)"
   ]
  },
  {
   "cell_type": "markdown",
   "metadata": {},
   "source": [
    "### Nested functions"
   ]
  },
  {
   "cell_type": "markdown",
   "metadata": {},
   "source": [
    "* Function is a object in python (everything is object accually). So Python allows defining a function in a function, and return this function."
   ]
  },
  {
   "cell_type": "code",
   "execution_count": null,
   "metadata": {},
   "outputs": [],
   "source": [
    "def parent():\n",
    "    print(\"Printing from the parent() function\")\n",
    "\n",
    "    def first_child():\n",
    "        print(\"Printing from the first_child() function\")\n",
    "\n",
    "    def second_child():\n",
    "        print(\"Printing from the second_child() function\")\n",
    "\n",
    "    second_child()\n",
    "    first_child()\n",
    "\n",
    "    \n",
    "parent()"
   ]
  },
  {
   "cell_type": "code",
   "execution_count": null,
   "metadata": {},
   "outputs": [],
   "source": [
    "second_child()"
   ]
  },
  {
   "cell_type": "code",
   "execution_count": null,
   "metadata": {},
   "outputs": [],
   "source": [
    "def parent(num):\n",
    "    def first_child():\n",
    "        return \"Hi, I am Emma\"\n",
    "\n",
    "    def second_child():\n",
    "        return \"Call me Liam\"\n",
    "\n",
    "    if num == 1:\n",
    "        return first_child\n",
    "    else:\n",
    "        return second_child"
   ]
  },
  {
   "cell_type": "code",
   "execution_count": null,
   "metadata": {},
   "outputs": [],
   "source": [
    "first = parent(1)\n",
    "\n",
    "second = parent(2)\n",
    "\n",
    "print(first, second)"
   ]
  },
  {
   "cell_type": "code",
   "execution_count": null,
   "metadata": {},
   "outputs": [],
   "source": [
    "print(first())\n",
    "print(second())"
   ]
  }
 ],
 "metadata": {
  "kernelspec": {
   "display_name": "Python 3",
   "language": "python",
   "name": "python3"
  },
  "language_info": {
   "codemirror_mode": {
    "name": "ipython",
    "version": 3
   },
   "file_extension": ".py",
   "mimetype": "text/x-python",
   "name": "python",
   "nbconvert_exporter": "python",
   "pygments_lexer": "ipython3",
   "version": "3.6.8"
  }
 },
 "nbformat": 4,
 "nbformat_minor": 2
}
