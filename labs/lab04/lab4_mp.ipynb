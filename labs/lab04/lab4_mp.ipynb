{
 "cells": [
  {
   "cell_type": "markdown",
   "metadata": {},
   "source": [
    "# <span style=\"color:blue\">Programming for Data Science - DS-GA 1007</span>\n",
    "## <span style=\"color:blue\">Lab 4: Classes and Objects</span>"
   ]
  },
  {
   "cell_type": "markdown",
   "metadata": {},
   "source": [
    "---\n",
    "## Overloading Built-in Functions\n",
    "Overloading built-in functions is quite useful to make customized classes works like regular python objets. "
   ]
  },
  {
   "cell_type": "code",
   "execution_count": 2,
   "metadata": {},
   "outputs": [],
   "source": [
    "class Student:\n",
    "    def __init__(self, name, age=None, gpa=0, average=0):\n",
    "        self.name = name\n",
    "        self.age = age\n",
    "        self.gpa = gpa\n",
    "        self.average_grade = average\n",
    "        self.score = 0\n",
    "        self.update_score()\n",
    "    \n",
    "    def __str__(self): \n",
    "        return (\n",
    "            \"\\n\\n\"\n",
    "            + \"gpa: \" + str(self.gpa) + \"\\n\"\n",
    "            + \"grade:\" + str(self.average_grade) + \"\\n\"\n",
    "            + \"score: \" + str(self.score)\n",
    "        )\n",
    "    \n",
    "    def update_score(self):\n",
    "        self.score = 0.4 * (self.gpa / 4.0) + 0.6 * (self.average_grade / 10.0)"
   ]
  },
  {
   "cell_type": "markdown",
   "metadata": {},
   "source": [
    "Q1. Create an instance of `student` class. Call the `print` function on the object. What happens? Modify the `student` class to display `name` and `age` in print statements.  "
   ]
  },
  {
   "cell_type": "code",
   "execution_count": 3,
   "metadata": {},
   "outputs": [],
   "source": [
    "class ScoreComparisonStudent(Student):\n",
    "\n",
    "    # Define some magic methods! (a.k.a dunder methods a.k.a. \"double-underscore\" methods)\n",
    "    def __le__(self, c):\n",
    "        return self.score <= c.score\n",
    "          \n",
    "    def __lt__(self, c):\n",
    "        return self.score < c.score\n",
    "    \n",
    "    def __ge__(self, c):\n",
    "        return self.score >= c.score\n",
    "       \n",
    "    def __gt__(self, c):\n",
    "        return self.score > c.score\n",
    "        \n",
    "    def __eq__(self, c):\n",
    "        return self.score == c.score"
   ]
  },
  {
   "cell_type": "markdown",
   "metadata": {},
   "source": [
    "Q2. Let's try to understand the above code. Add print statements to each method. For example `print('inside __eq__')`. \n",
    "\n",
    "a. Create two instances of `ScoreComparisonStudent` class: call them `student1` and `student2`. What happens when you execute the following code?"
   ]
  },
  {
   "cell_type": "code",
   "execution_count": 5,
   "metadata": {},
   "outputs": [],
   "source": [
    "# Instantiate student1 and student2, instacnes of ScoreComparisonStudent\n",
    "\n",
    "student1 = ScoreComparisonStudent(\"bob\",gpa=2)\n",
    "student2 = ScoreComparisonStudent(\"jen\",gpa=2)"
   ]
  },
  {
   "cell_type": "code",
   "execution_count": 6,
   "metadata": {},
   "outputs": [
    {
     "name": "stdout",
     "output_type": "stream",
     "text": [
      "Students bob and jen have the same scores\n"
     ]
    }
   ],
   "source": [
    "if student1 < student2:\n",
    "    print(\"Student \" + student2.name + \" has a better score than \" + student1.name)\n",
    "elif student1 > student2:\n",
    "    print(\"Student \" + student1.name + \" has a better score than \" + student2.name)\n",
    "else:\n",
    "    print(\"Students \" + student1.name + \" and \" + student2.name + \" have the same scores\")"
   ]
  },
  {
   "cell_type": "markdown",
   "metadata": {},
   "source": [
    "b. Now do the same with `Student`. What happens?"
   ]
  },
  {
   "cell_type": "code",
   "execution_count": 10,
   "metadata": {},
   "outputs": [],
   "source": [
    "# Instantiate student3 and student4, instances of Student\n",
    "student3 = ScoreComparisonStudent(\"anna\",gpa=3)\n",
    "student4 = ScoreComparisonStudent(\"emmy\",gpa=4)\n"
   ]
  },
  {
   "cell_type": "code",
   "execution_count": 12,
   "metadata": {},
   "outputs": [
    {
     "data": {
      "text/plain": [
       "True"
      ]
     },
     "execution_count": 12,
     "metadata": {},
     "output_type": "execute_result"
    }
   ],
   "source": [
    "student3 < student4"
   ]
  },
  {
   "cell_type": "code",
   "execution_count": 13,
   "metadata": {},
   "outputs": [
    {
     "name": "stdout",
     "output_type": "stream",
     "text": [
      "Student emmy has a better score than anna\n"
     ]
    }
   ],
   "source": [
    "if student3 < student4:\n",
    "    print(\"Student \" + student4.name + \" has a better score than \" + student3.name)\n",
    "elif student3 > student4:\n",
    "    print(\"Student \" + student3.name + \" has a better score than \" + student4.name)\n",
    "else:\n",
    "    print(\"Students \" + student3.name + \" and \" + student4.name + \" have the same scores\")"
   ]
  },
  {
   "cell_type": "markdown",
   "metadata": {},
   "source": [
    "## Composition\n",
    "Composition is an alternative to inheritance. Composition allows us to reuse code. However, we do not have instances of subclasses and superclasses. Instead an object contains another object. Think of composition as \"has a\" relationship and inheritance as \"is a\" relationship.\n",
    "\n",
    "When extending functionality of an object, you should think hard about whether **inheritance** or **composition** is more suitable for your use-case. Many great debates have been had about this!"
   ]
  },
  {
   "cell_type": "code",
   "execution_count": 14,
   "metadata": {},
   "outputs": [],
   "source": [
    "class ScoreComparisonStudentProfile:\n",
    "    def __init__(self, student):\n",
    "        self.student = student\n",
    "        \n",
    "    def get_name(self):\n",
    "        return self.student.name\n",
    "        \n",
    "    # Define some magic methods! (a.k.a dunder methods a.k.a. \"double-underscore\" methods)\n",
    "    def __le__(self, c):\n",
    "        return self.student.score <= c.student.score\n",
    "          \n",
    "    def __lt__(self, c):\n",
    "        return self.student.score < c.student.score\n",
    "    \n",
    "    def __ge__(self, c):\n",
    "        return self.student.score >= c.student.score\n",
    "       \n",
    "    def __gt__(self, c):\n",
    "        return self.student.score > c.student.score\n",
    "        \n",
    "    def __eq__(self, c):\n",
    "        return self.student.score == c.student.score"
   ]
  },
  {
   "cell_type": "code",
   "execution_count": 20,
   "metadata": {},
   "outputs": [],
   "source": [
    "# Instantiate student5 and student6, instances of ScoreComparisonStudentProfile\n",
    "student_profile5 = ScoreComparisonStudentProfile(Student(\"hehe\",gpa=3))\n",
    "student_profile6 = ScoreComparisonStudentProfile(Student(\"zupa\",gpa=4))"
   ]
  },
  {
   "cell_type": "code",
   "execution_count": 21,
   "metadata": {},
   "outputs": [
    {
     "name": "stdout",
     "output_type": "stream",
     "text": [
      "Student zupa has a better score than hehe\n"
     ]
    }
   ],
   "source": [
    "if student_profile5 < student_profile6:\n",
    "    print(\"Student \" + student_profile6.get_name() + \" has a better score than \" + student_profile5.get_name())\n",
    "elif student_profile5 > student_profile6:\n",
    "    print(\"Student \" + student_profile5.get_name() + \" has a better score than \" + student_profile6.get_name())\n",
    "else:\n",
    "    print(\"Students \" + student_profile5.get_name() + \" and \" + student_profile6.get_name() + \" have the same scores\")"
   ]
  },
  {
   "cell_type": "code",
   "execution_count": null,
   "metadata": {},
   "outputs": [],
   "source": []
  }
 ],
 "metadata": {
  "kernelspec": {
   "display_name": "Python 3",
   "language": "python",
   "name": "python3"
  },
  "language_info": {
   "codemirror_mode": {
    "name": "ipython",
    "version": 3
   },
   "file_extension": ".py",
   "mimetype": "text/x-python",
   "name": "python",
   "nbconvert_exporter": "python",
   "pygments_lexer": "ipython3",
   "version": "3.7.3"
  }
 },
 "nbformat": 4,
 "nbformat_minor": 2
}
